{
 "cells": [
  {
   "cell_type": "markdown",
   "metadata": {},
   "source": [
    "# What Should I Make for Dinner - a mini-app!\n",
    "## Description:\n",
    "This mini app is useful for when you need to use up food that's going bad, but you're out of ideas on what to make! Based on a list of ingredients that you're wanting to utilize and any dietary restrictions you may have, it will output a list of meal ideas!"
   ]
  },
  {
   "cell_type": "markdown",
   "metadata": {},
   "source": [
    "---"
   ]
  },
  {
   "cell_type": "markdown",
   "metadata": {},
   "source": [
    "## Dependencies to install:\n",
    "`pip install python-dotenv`\n",
    "\n",
    "`pip install -q -U google-generativeai`"
   ]
  },
  {
   "cell_type": "markdown",
   "metadata": {},
   "source": [
    "---"
   ]
  },
  {
   "cell_type": "code",
   "execution_count": 4,
   "metadata": {},
   "outputs": [],
   "source": [
    "import os\n",
    "from dotenv import load_dotenv\n",
    "import requests\n",
    "import itertools\n",
    "import google.generativeai as genai\n",
    "from IPython.display import display, Markdown\n",
    "\n",
    "load_dotenv()\n",
    "SPOONACULAR_API_KEY = os.getenv('SPOONACULAR_API_KEY')"
   ]
  },
  {
   "cell_type": "markdown",
   "metadata": {},
   "source": [
    "### To begin, you enter a list of ingredients you have in your fridge that you're wanting to use up before they go bad as well as any dietary restrictions."
   ]
  },
  {
   "cell_type": "code",
   "execution_count": 5,
   "metadata": {},
   "outputs": [],
   "source": [
    "ingredients: str = input('Enter ingredients here')\n",
    "while not ingredients:\n",
    "    print('Please enter a valid list of ingredients')\n",
    "    ingredients: str = input(\"Enter ingredients here\")\n",
    "dietary_restrictions: str = input(\n",
    "    'What are your dietary restrictions? If you don\\'t have any type \\\"none\\\"')\n",
    "if not dietary_restrictions or dietary_restrictions == None:\n",
    "    dietary_restrictions = 'There are no dietary restrictions.'"
   ]
  },
  {
   "cell_type": "markdown",
   "metadata": {},
   "source": [
    "### We then call the spoonacular API to find recipe ideas with the inputted ingredients. Then we use the Gemini SDK to ensure only recipe ideas with ingredients that follow the provided dietary restrictions are given."
   ]
  },
  {
   "cell_type": "code",
   "execution_count": null,
   "metadata": {},
   "outputs": [],
   "source": [
    "spoonacular_uri = 'https://api.spoonacular.com/recipes/findByIngredients'\n",
    "params = {\n",
    "    'ingredients': ingredients,\n",
    "    'number': 5,\n",
    "    'ranking': 1,\n",
    "    'ignorePantry': True\n",
    "}\n",
    "headers = {\n",
    "    'Content-Type': 'application/json',\n",
    "    'x-api-key': os.environ['SPOONACULAR_API_KEY']\n",
    "}\n",
    "\n",
    "response = requests.get(url=spoonacular_uri,\n",
    "                        params=params, headers=headers)\n",
    "\n",
    "if response.status_code != 200:\n",
    "    print('There was an error with the Spoonacular API integration. Please try again.')\n",
    "elif not response.json():\n",
    "    print('No recipes with the given ingredient(s) were found.')\n",
    "else:\n",
    "    recipes_decoded = {}\n",
    "\n",
    "    for recipe in response.json():\n",
    "        all_ingredients = []\n",
    "        for i in itertools.chain(recipe['missedIngredients'], recipe['usedIngredients']):\n",
    "            all_ingredients.append(i['name'])\n",
    "        recipes_decoded[recipe['title']] = all_ingredients\n",
    "\n",
    "    genai.configure(api_key=os.environ[\"GOOGLE_AI_API_KEY\"])\n",
    "\n",
    "    model = genai.GenerativeModel(\"gemini-1.5-flash\")\n",
    "\n",
    "    try:\n",
    "        gemini_response = model.generate_content(\n",
    "            f'Based on the list of recipes and subsequent ingredients provided, return the recipes' +\n",
    "            f'that follow the following dietary restriction(s): {dietary_restrictions}.' +\n",
    "            f'If there are ingredients in the recipes that don\\'t follow the dietary restrictions, substitute them. The recipes are: {recipes_decoded}.' +\n",
    "            f\"Include these ingredients: {ingredients} and the dietary restrictions (if they have them) in the top heading\"\n",
    "        )\n",
    "    except:\n",
    "        print('There was an error with the Gemini Integration. Please try again.')\n",
    "        exit()\n",
    "\n",
    "    display(Markdown(gemini_response.text))"
   ]
  }
 ],
 "metadata": {
  "kernelspec": {
   "display_name": "Python 3",
   "language": "python",
   "name": "python3"
  },
  "language_info": {
   "codemirror_mode": {
    "name": "ipython",
    "version": 3
   },
   "file_extension": ".py",
   "mimetype": "text/x-python",
   "name": "python",
   "nbconvert_exporter": "python",
   "pygments_lexer": "ipython3",
   "version": "3.11.7"
  }
 },
 "nbformat": 4,
 "nbformat_minor": 2
}
