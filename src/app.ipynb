{
 "cells": [
  {
   "cell_type": "markdown",
   "metadata": {},
   "source": [
    "# Welcome to my Recipe finder mini-app!\n",
    "## Description:\n",
    "This mini web app is useful for when you have a bunch of random ingredients sitting in your fridge and you're not sure how to best use them up!"
   ]
  },
  {
   "cell_type": "markdown",
   "metadata": {},
   "source": [
    "---"
   ]
  },
  {
   "cell_type": "markdown",
   "metadata": {},
   "source": [
    "## Dependencies to install:\n",
    "`pip install python-dotenv`"
   ]
  },
  {
   "cell_type": "code",
   "execution_count": 14,
   "metadata": {},
   "outputs": [],
   "source": [
    "import os\n",
    "from dotenv import load_dotenv\n",
    "import requests\n",
    "\n",
    "load_dotenv()\n",
    "SPOONACULAR_API_KEY = os.getenv('SPOONACULAR_API_KEY')"
   ]
  },
  {
   "cell_type": "markdown",
   "metadata": {},
   "source": [
    "### To begin, please enter a list of ingredients you have in your fridge that you're wanting to use up before they go bad."
   ]
  },
  {
   "cell_type": "code",
   "execution_count": 15,
   "metadata": {},
   "outputs": [
    {
     "name": "stdout",
     "output_type": "stream",
     "text": [
      "The ingredients you've entered are: cheddar, pasta\n"
     ]
    }
   ],
   "source": [
    "ingredients : str = input(\"Enter ingredients here\")\n",
    "print(\"The ingredients you've entered are:\", ingredients)\n",
    "# TODO: add recipe numbers ?\n",
    "# TODO: add dietary restrictions for LLM"
   ]
  },
  {
   "cell_type": "code",
   "execution_count": 19,
   "metadata": {},
   "outputs": [
    {
     "name": "stdout",
     "output_type": "stream",
     "text": [
      "[{'id': 1681413, 'title': 'Macaroni and Cheese', 'image': 'https://img.spoonacular.com/recipes/1681413-312x231.jpg', 'imageType': 'jpg', 'usedIngredientCount': 2, 'missedIngredientCount': 2, 'missedIngredients': [{'id': 1077, 'amount': 0.75, 'unit': 'cup', 'unitLong': 'cups', 'unitShort': 'cup', 'aisle': 'Milk, Eggs, Other Dairy', 'name': 'milk', 'original': '3/4 cup Milk ( 1/2 cup + 1/2 cup, divided)', 'originalName': 'Milk ( 1/2 cup + 1/2 cup, divided)', 'meta': ['divided', '()'], 'image': 'https://img.spoonacular.com/ingredients_100x100/milk.png'}, {'id': 2031, 'amount': 1.0, 'unit': 'serving', 'unitLong': 'serving', 'unitShort': 'serving', 'aisle': 'Spices and Seasonings', 'name': 'pepper powder', 'original': 'Pepper Powder as needed', 'originalName': 'Pepper Powder as needed', 'meta': ['as needed'], 'image': 'https://img.spoonacular.com/ingredients_100x100/chili-powder.jpg'}], 'usedIngredients': [{'id': 20420, 'amount': 2.0, 'unit': 'cups', 'unitLong': 'cups', 'unitShort': 'cup', 'aisle': 'Pasta and Rice', 'name': 'pasta', 'original': '2 cups Pasta, any shape', 'originalName': 'Pasta, any shape', 'meta': [], 'image': 'https://img.spoonacular.com/ingredients_100x100/fusilli.jpg'}, {'id': 1009, 'amount': 1.5, 'unit': 'cups', 'unitLong': 'cups', 'unitShort': 'cup', 'aisle': 'Cheese', 'name': 'cheese', 'original': '1.5 cups Grated Cheese (Cheddar or any melting cheese)', 'originalName': 'Grated Cheese (Cheddar or any melting cheese)', 'meta': ['or any melting cheese)', 'grated'], 'image': 'https://img.spoonacular.com/ingredients_100x100/cheddar-cheese.png'}], 'unusedIngredients': [], 'likes': 0}, {'id': 715595, 'title': 'How to Make the Cheesiest Bowtie Mac and Cheese', 'image': 'https://img.spoonacular.com/recipes/715595-312x231.jpg', 'imageType': 'jpg', 'usedIngredientCount': 2, 'missedIngredientCount': 3, 'missedIngredients': [{'id': 1056, 'amount': 0.25, 'unit': 'cup', 'unitLong': 'cups', 'unitShort': 'cup', 'aisle': 'Milk, Eggs, Other Dairy', 'name': 'cream', 'original': '1/4 cup sour cream', 'originalName': 'sour cream', 'meta': ['sour'], 'extendedName': 'sour cream', 'image': 'https://img.spoonacular.com/ingredients_100x100/sour-cream.jpg'}, {'id': 1145, 'amount': 0.25, 'unit': 'cup', 'unitLong': 'cups', 'unitShort': 'cup', 'aisle': 'Milk, Eggs, Other Dairy', 'name': 'butter', 'original': '1/4 cup unsalted butter room temperature', 'originalName': 'unsalted butter room temperature', 'meta': ['unsalted', 'room temperature'], 'extendedName': 'unsalted butter', 'image': 'https://img.spoonacular.com/ingredients_100x100/butter-sliced.jpg'}, {'id': 10511297, 'amount': 4.0, 'unit': 'servings', 'unitLong': 'servings', 'unitShort': 'servings', 'aisle': 'Produce', 'name': 'parsley', 'original': 'Fresh Parsley for garnish', 'originalName': 'Fresh Parsley for garnish', 'meta': ['fresh', 'for garnish'], 'extendedName': 'fresh parsley', 'image': 'https://img.spoonacular.com/ingredients_100x100/parsley.jpg'}], 'usedIngredients': [{'id': 10120420, 'amount': 1.0, 'unit': 'package', 'unitLong': 'package', 'unitShort': 'pkg', 'aisle': 'Pasta and Rice', 'name': 'bowtie pasta cook as directed', 'original': '1 package of Bowtie pasta cook as directed', 'originalName': 'Bowtie pasta cook as directed', 'meta': [], 'image': 'https://img.spoonacular.com/ingredients_100x100/farfalle.png'}, {'id': 1021009, 'amount': 1.0, 'unit': 'cup', 'unitLong': 'cup', 'unitShort': 'cup', 'aisle': 'Cheese', 'name': 'extra sharp cheddar cheese', 'original': '1 cup Extra Sharp Cheddar cheese', 'originalName': 'Extra Sharp Cheddar cheese', 'meta': [], 'image': 'https://img.spoonacular.com/ingredients_100x100/cheddar-cheese.png'}], 'unusedIngredients': [], 'likes': 402}, {'id': 653593, 'title': 'Old Fashioned Mac and Cheese', 'image': 'https://img.spoonacular.com/recipes/653593-312x231.jpg', 'imageType': 'jpg', 'usedIngredientCount': 2, 'missedIngredientCount': 3, 'missedIngredients': [{'id': 1077, 'amount': 3.0, 'unit': 'cups', 'unitLong': 'cups', 'unitShort': 'cup', 'aisle': 'Milk, Eggs, Other Dairy', 'name': 'milk', 'original': '3 cups milk', 'originalName': 'milk', 'meta': [], 'image': 'https://img.spoonacular.com/ingredients_100x100/milk.png'}, {'id': 1145, 'amount': 1.0, 'unit': 'stick', 'unitLong': 'stick', 'unitShort': 'stick', 'aisle': 'Milk, Eggs, Other Dairy', 'name': 'butter', 'original': '1 stick of unsalted butter', 'originalName': 'unsalted butter', 'meta': ['unsalted'], 'extendedName': 'unsalted butter', 'image': 'https://img.spoonacular.com/ingredients_100x100/butter-sliced.jpg'}, {'id': 18376, 'amount': 0.5, 'unit': 'cup', 'unitLong': 'cups', 'unitShort': 'cup', 'aisle': 'Baking', 'name': 'seasoned bread crumbs', 'original': '1/2 cup seasoned bread crumbs', 'originalName': 'seasoned bread crumbs', 'meta': [], 'image': 'https://img.spoonacular.com/ingredients_100x100/breadcrumbs.jpg'}], 'usedIngredients': [{'id': 10120499, 'amount': 16.0, 'unit': 'ounce', 'unitLong': 'ounces', 'unitShort': 'oz', 'aisle': 'Pasta and Rice', 'name': 'elbow macaroni', 'original': '1 16 ounce box of Elbow Macaroni', 'originalName': 'box of Elbow Macaroni', 'meta': [], 'image': 'https://img.spoonacular.com/ingredients_100x100/elbow.jpg'}, {'id': 1009, 'amount': 16.0, 'unit': 'ounce', 'unitLong': 'ounces', 'unitShort': 'oz', 'aisle': 'Cheese', 'name': 'block of cheddar cheese', 'original': '1 16 ounce block of Medium Cheddar Cheese', 'originalName': 'block of Medium Cheddar Cheese', 'meta': [], 'image': 'https://img.spoonacular.com/ingredients_100x100/cheddar-cheese.png'}], 'unusedIngredients': [], 'likes': 11}, {'id': 633683, 'title': 'Baked Macaroni and Cheese', 'image': 'https://img.spoonacular.com/recipes/633683-312x231.jpg', 'imageType': 'jpg', 'usedIngredientCount': 2, 'missedIngredientCount': 3, 'missedIngredients': [{'id': 1001, 'amount': 2.0, 'unit': 'tablespoons', 'unitLong': 'tablespoons', 'unitShort': 'Tbsp', 'aisle': 'Milk, Eggs, Other Dairy', 'name': 'butter', 'original': '2 tablespoons Butter', 'originalName': 'Butter', 'meta': [], 'image': 'https://img.spoonacular.com/ingredients_100x100/butter-sliced.jpg'}, {'id': 1077, 'amount': 1.75, 'unit': 'cups', 'unitLong': 'cups', 'unitShort': 'cup', 'aisle': 'Milk, Eggs, Other Dairy', 'name': 'milk', 'original': '1 3/4 cups Milk', 'originalName': 'Milk', 'meta': [], 'image': 'https://img.spoonacular.com/ingredients_100x100/milk.png'}, {'id': 18079, 'amount': 0.5, 'unit': 'cup', 'unitLong': 'cups', 'unitShort': 'cup', 'aisle': 'Pasta and Rice', 'name': 'bread crumbs', 'original': '1/2 cup Bread crumbs', 'originalName': 'Bread crumbs', 'meta': [], 'image': 'https://img.spoonacular.com/ingredients_100x100/breadcrumbs.jpg'}], 'usedIngredients': [{'id': 10120499, 'amount': 8.0, 'unit': 'oz', 'unitLong': 'ounces', 'unitShort': 'oz', 'aisle': 'Pasta and Rice', 'name': 'pkt elbow macaroni', 'original': '1 pkt (8 oz.) elbow macaroni', 'originalName': 'pkt elbow macaroni', 'meta': [], 'image': 'https://img.spoonacular.com/ingredients_100x100/elbow.jpg'}, {'id': 1009, 'amount': 2.0, 'unit': 'cups', 'unitLong': 'cups', 'unitShort': 'cup', 'aisle': 'Cheese', 'name': 'cheddar cheese', 'original': '2 cups Cheddar cheese, grated', 'originalName': 'Cheddar cheese, grated', 'meta': ['grated'], 'image': 'https://img.spoonacular.com/ingredients_100x100/cheddar-cheese.png'}], 'unusedIngredients': [], 'likes': 4}, {'id': 715563, 'title': 'Pierogi Casserole', 'image': 'https://img.spoonacular.com/recipes/715563-312x231.jpg', 'imageType': 'jpg', 'usedIngredientCount': 2, 'missedIngredientCount': 4, 'missedIngredients': [{'id': 1001, 'amount': 4.0, 'unit': 'tbsp', 'unitLong': 'tablespoons', 'unitShort': 'Tbsp', 'aisle': 'Milk, Eggs, Other Dairy', 'name': 'butter', 'original': '4 tbsp. butter + more for mixing', 'originalName': 'butter + more for mixing', 'meta': ['for mixing'], 'image': 'https://img.spoonacular.com/ingredients_100x100/butter-sliced.jpg'}, {'id': 1077, 'amount': 0.5, 'unit': 'cup', 'unitLong': 'cups', 'unitShort': 'cup', 'aisle': 'Milk, Eggs, Other Dairy', 'name': 'milk', 'original': '½ cup milk+ more for mixing', 'originalName': 'milk+ more for mixing', 'meta': ['for mixing'], 'image': 'https://img.spoonacular.com/ingredients_100x100/milk.png'}, {'id': 11282, 'amount': 2.0, 'unit': 'large', 'unitLong': 'larges', 'unitShort': 'large', 'aisle': 'Produce', 'name': 'onions', 'original': '2 large onions, sliced', 'originalName': 'onions, sliced', 'meta': ['sliced'], 'image': 'https://img.spoonacular.com/ingredients_100x100/brown-onion.png'}, {'id': 10111362, 'amount': 1.0, 'unit': 'lb', 'unitLong': 'pound', 'unitShort': 'lb', 'aisle': 'Produce', 'name': 'potatoes', 'original': '1 lb. white potatoes, peeled, cubed and then boiled until tender', 'originalName': 'white potatoes, peeled, cubed and then boiled until tender', 'meta': ['white', 'boiled', 'cubed', 'peeled'], 'extendedName': 'cooked white potatoes', 'image': 'https://img.spoonacular.com/ingredients_100x100/potatoes-yukon-gold.png'}], 'usedIngredients': [{'id': 1031009, 'amount': 1.5, 'unit': 'cups', 'unitLong': 'cups', 'unitShort': 'cup', 'aisle': 'Cheese', 'name': 'sharp cheddar cheese', 'original': '1½ cups sharp cheddar cheese, shredded', 'originalName': 'sharp cheddar cheese, shredded', 'meta': ['shredded'], 'extendedName': 'shredded sharp cheddar cheese', 'image': 'https://img.spoonacular.com/ingredients_100x100/cheddar-cheese.png'}, {'id': 20409, 'amount': 1.0, 'unit': 'lb', 'unitLong': 'pound', 'unitShort': 'lb', 'aisle': 'Pasta and Rice', 'name': 'extra wide egg noodles', 'original': '1 lb. extra wide egg noodles', 'originalName': 'extra wide egg noodles', 'meta': [], 'image': 'https://img.spoonacular.com/ingredients_100x100/egg-noodles.jpg'}], 'unusedIngredients': [], 'likes': 1544}]\n"
     ]
    }
   ],
   "source": [
    "uri = 'https://api.spoonacular.com/recipes/findByIngredients'\n",
    "params = {\n",
    "    'ingredients': ingredients,\n",
    "    'number': 5,\n",
    "    'ranking': 1,\n",
    "    'ignorePantry': True\n",
    "}\n",
    "headers = {\n",
    "    'Content-Type': 'application/json',\n",
    "    'x-api-key': os.environ['SPOONACULAR_API_KEY']\n",
    "}\n",
    "\n",
    "# resp = requests.get(url=uri, params=params, headers=headers)\n",
    "print(resp.json())"
   ]
  }
 ],
 "metadata": {
  "kernelspec": {
   "display_name": "Python 3",
   "language": "python",
   "name": "python3"
  },
  "language_info": {
   "codemirror_mode": {
    "name": "ipython",
    "version": 3
   },
   "file_extension": ".py",
   "mimetype": "text/x-python",
   "name": "python",
   "nbconvert_exporter": "python",
   "pygments_lexer": "ipython3",
   "version": "3.11.7"
  }
 },
 "nbformat": 4,
 "nbformat_minor": 2
}
