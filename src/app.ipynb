{
 "cells": [
  {
   "cell_type": "markdown",
   "metadata": {},
   "source": [
    "# Welcome to my Recipe finder mini-app!\n",
    "## Description:\n",
    "This mini web app is useful for when you have a bunch of random ingredients sitting in your fridge and you're not sure how to best use them up!"
   ]
  },
  {
   "cell_type": "markdown",
   "metadata": {},
   "source": [
    "---"
   ]
  },
  {
   "cell_type": "markdown",
   "metadata": {},
   "source": [
    "## Dependencies to install:\n",
    "`pip install python-dotenv`\n",
    "\n",
    "`pip install -q -U google-generativeai`"
   ]
  },
  {
   "cell_type": "code",
   "execution_count": 27,
   "metadata": {},
   "outputs": [],
   "source": [
    "import os\n",
    "from dotenv import load_dotenv\n",
    "import requests\n",
    "import itertools\n",
    "import google.generativeai as genai\n",
    "from IPython.display import display, Markdown\n",
    "\n",
    "load_dotenv()\n",
    "SPOONACULAR_API_KEY = os.getenv('SPOONACULAR_API_KEY')"
   ]
  },
  {
   "cell_type": "markdown",
   "metadata": {},
   "source": [
    "### To begin, please enter a list of ingredients you have in your fridge that you're wanting to use up before they go bad."
   ]
  },
  {
   "cell_type": "code",
   "execution_count": null,
   "metadata": {},
   "outputs": [],
   "source": [
    "ingredients : str = input(\"Enter ingredients here\")\n",
    "print(\"The ingredients you've entered are:\", ingredients)\n",
    "dietary_restrictions : str = input(\"What are your dietary restrictions? If you don't have any type \\\"none\\\"\")\n",
    "# TODO: add recipe numbers ?\n",
    "# TODO: add dietary restrictions for LLM"
   ]
  },
  {
   "cell_type": "code",
   "execution_count": 29,
   "metadata": {},
   "outputs": [],
   "source": [
    "spoonacular_uri = 'https://api.spoonacular.com/recipes/findByIngredients'\n",
    "params = {\n",
    "    'ingredients': ingredients,\n",
    "    'number': 5,\n",
    "    'ranking': 1,\n",
    "    'ignorePantry': True\n",
    "}\n",
    "headers = {\n",
    "    'Content-Type': 'application/json',\n",
    "    'x-api-key': os.environ['SPOONACULAR_API_KEY']\n",
    "}\n",
    "\n",
    "response = requests.get(url=spoonacular_uri, params=params, headers=headers).json()\n",
    "\n",
    "recipes_decoded = {}\n",
    "\n",
    "for recipe in response:\n",
    "    all_ingredients = []\n",
    "    for i in itertools.chain(recipe['missedIngredients'], recipe['usedIngredients']):\n",
    "        all_ingredients.append(i['name'])\n",
    "    recipes_decoded[recipe['title']] = all_ingredients\n",
    "    "
   ]
  },
  {
   "cell_type": "code",
   "execution_count": null,
   "metadata": {},
   "outputs": [],
   "source": [
    "genai.configure(api_key=os.environ[\"GOOGLE_AI_API_KEY\"])\n",
    "\n",
    "model = genai.GenerativeModel(\"gemini-1.5-flash\")\n",
    "\n",
    "response = model.generate_content(\n",
    "    'Based on the list of recipes and subsequent ingredients that I will give you, return the recipes' +\n",
    "      f'that follow the following dietary restriction(s): {dietary_restrictions}.' +\n",
    "        f'If there are ingreidents in the recipes that don\\'t follow the dietary restrictions, substitute them. The recipes are: {recipes_decoded}.'\n",
    "    )\n",
    "display(Markdown(response.text))\n",
    "\n",
    "\n"
   ]
  }
 ],
 "metadata": {
  "kernelspec": {
   "display_name": "Python 3",
   "language": "python",
   "name": "python3"
  },
  "language_info": {
   "codemirror_mode": {
    "name": "ipython",
    "version": 3
   },
   "file_extension": ".py",
   "mimetype": "text/x-python",
   "name": "python",
   "nbconvert_exporter": "python",
   "pygments_lexer": "ipython3",
   "version": "3.11.7"
  }
 },
 "nbformat": 4,
 "nbformat_minor": 2
}
